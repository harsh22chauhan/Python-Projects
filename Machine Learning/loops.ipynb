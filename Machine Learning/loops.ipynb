{
 "cells": [
  {
   "cell_type": "markdown",
   "metadata": {},
   "source": [
    "## Loops ,Lists ,Sets,Tuples ,Dictionary"
   ]
  },
  {
   "cell_type": "code",
   "execution_count": null,
   "metadata": {},
   "outputs": [],
   "source": [
    "for i in range(1,9):\n",
    "    print(i)"
   ]
  },
  {
   "cell_type": "code",
   "execution_count": null,
   "metadata": {},
   "outputs": [],
   "source": [
    "for i in range(9,1,-2):#(start,stop,difference)\n",
    "    print(i)"
   ]
  },
  {
   "cell_type": "code",
   "execution_count": null,
   "metadata": {},
   "outputs": [],
   "source": [
    "# iterating String using for loop:\n",
    "a=\"python\"\n",
    "for i in a:\n",
    "    print(a)\n",
    "    print(i)"
   ]
  },
  {
   "cell_type": "markdown",
   "metadata": {},
   "source": [
    "- **Ques: Validity of Password**"
   ]
  },
  {
   "cell_type": "code",
   "execution_count": null,
   "metadata": {},
   "outputs": [],
   "source": [
    "pwd=input('enter passowrd')\n",
    "d=a=u=s=l=sp=0\n",
    "w=\"@#$%^&*_><?/\"\n",
    "for c in pwd:\n",
    "    if c.isdigit():\n",
    "        d=d+1\n",
    "    elif c.isalpha():\n",
    "        a=a+1\n",
    "        if c.isupper():\n",
    "           u=u+1\n",
    "        elif c.islower():\n",
    "           l=l+1    \n",
    "    elif c in w:\n",
    "        s=s+1\n",
    "    elif c.isspace():\n",
    "        sp=sp+1    \n",
    "    else:\n",
    "        pass\n",
    "if d==0:\n",
    "    print(\"invalid password no digits\")\n",
    "if sp>0:\n",
    "    print(\"Invalid space not allowed\")\n",
    "elif a==0:\n",
    "    print(\"INVALID ENTER SOME LETTERS\")\n",
    "elif u==0:\n",
    "    print(\"INVALID ENTER one in uppercase\")\n",
    "elif l==0:\n",
    "    print(\"INVALID ENTER one in lowercase\")\n",
    "elif s==0:\n",
    "    print(\"INVALID enter special character\")\n",
    "elif len(pwd)<10:\n",
    "    print(\"INVALID MINIMUM LENGTH SHOULD BE 9\")\n",
    "else:\n",
    "    print(\"Valid pasword\")\n"
   ]
  },
  {
   "cell_type": "code",
   "execution_count": 9,
   "metadata": {},
   "outputs": [
    {
     "name": "stdout",
     "output_type": "stream",
     "text": [
      "1\n",
      "[-1, 3.2]\n",
      "-1\n"
     ]
    }
   ],
   "source": [
    "#Lists\n",
    "l=[1,2,\"a\",\"py\",[-1,3.2]]\n",
    "print(l[0])\n",
    "l[4]\n",
    "b=l[4]\n",
    "print(b)\n",
    "print(b[0])"
   ]
  },
  {
   "cell_type": "code",
   "execution_count": 47,
   "metadata": {},
   "outputs": [
    {
     "name": "stdout",
     "output_type": "stream",
     "text": [
      "length using len(a)= 6\n",
      "length after append len(a)= 7\n",
      "[3, 7.6, 3, -8, 11, 4]\n",
      "[3, -8, 11]\n",
      "[3, 7.6, 3, 3, -8, 11, 4]\n",
      "3\n",
      "[3, 7.6, 3, -8, 11, 4]\n",
      "-8\n",
      "[3, 7.6, 3, 11, 4]\n",
      "[3, 3, 4, 7.6, 11]\n"
     ]
    }
   ],
   "source": [
    "#list methods \n",
    "a=[1,-9,7.6,3,-8,11]\n",
    "print(\"length using len(a)=\",len(a))\n",
    "a.append(4)\n",
    "print(\"length after append len(a)=\",len(a))\n",
    "a.remove(1)\n",
    "a[0]=3\n",
    "print(a)\n",
    "print(a[2:5])\n",
    "7.6 in a\n",
    "b=[3,4,5]\n",
    "a.insert(2,3)#(index,value)\n",
    "print(a)\n",
    "print(a.pop(3))\n",
    "print(a)\n",
    "print(a.pop(3))# removes according to position\n",
    "print(a)\n",
    "a.sort()\n",
    "print(a)\n"
   ]
  },
  {
   "cell_type": "code",
   "execution_count": 79,
   "metadata": {},
   "outputs": [
    {
     "name": "stdout",
     "output_type": "stream",
     "text": [
      "(-1, 2, 4, 9)\n"
     ]
    },
    {
     "data": {
      "text/plain": [
       "tuple"
      ]
     },
     "execution_count": 79,
     "metadata": {},
     "output_type": "execute_result"
    }
   ],
   "source": [
    "#Conversion\n",
    "#1.String\n",
    "a=(1,2,3)\n",
    "b=[-1,2,4,9]\n",
    "c=tuple(b)\n",
    "print(c)\n",
    "type(c)\n"
   ]
  },
  {
   "cell_type": "code",
   "execution_count": 68,
   "metadata": {},
   "outputs": [
    {
     "name": "stdout",
     "output_type": "stream",
     "text": [
      "(1, 2, 4, 5, 2)\n",
      "2\n"
     ]
    }
   ],
   "source": [
    "#Tuple\n",
    "a=(1,2,4)\n",
    "b=(5,2)\n",
    "a=a+b\n",
    "print(a)\n",
    "a[0]\n",
    "print(a[-1])"
   ]
  },
  {
   "cell_type": "code",
   "execution_count": 84,
   "metadata": {},
   "outputs": [
    {
     "name": "stdout",
     "output_type": "stream",
     "text": [
      "how many value you want in a list: 2\n",
      "enter your choice number:1\n",
      "enter your choice number:2\n",
      "[1, 2]\n"
     ]
    }
   ],
   "source": [
    "list=[]\n",
    "number = int(input(\"how many value you want in a list: \"))\n",
    "for i in range(0,number):\n",
    "   element = int(input(\"enter your choice number:\"))\n",
    "   list.append(element)\n",
    " \n",
    "print(list)\n"
   ]
  },
  {
   "cell_type": "markdown",
   "metadata": {},
   "source": [
    "#### Ques: Count even & Odd from a list"
   ]
  },
  {
   "cell_type": "code",
   "execution_count": 91,
   "metadata": {},
   "outputs": [
    {
     "name": "stdout",
     "output_type": "stream",
     "text": [
      "Number of even numbers : 5\n",
      "Number of odd numbers : 10\n"
     ]
    }
   ],
   "source": [
    "numbers = [22,6,1,3,5,5,6,8,9,12,13,11,11,13,13] # Declaring the list\n",
    "count_odd = 0\n",
    "count_even = 0\n",
    "for x in numbers:\n",
    "        if not x % 2:\n",
    "    \t     count_even+=1\n",
    "        else:\n",
    "    \t     count_odd+=1\n",
    "print(\"Number of even numbers :\",count_even)\n",
    "print(\"Number of odd numbers :\",count_odd)"
   ]
  },
  {
   "cell_type": "code",
   "execution_count": 95,
   "metadata": {},
   "outputs": [
    {
     "name": "stdout",
     "output_type": "stream",
     "text": [
      "{1, 2, 3, 4, 5}\n",
      "(1, 2, 3, 4, 5)\n"
     ]
    }
   ],
   "source": [
    "a={1,2,3,4,5,3,3}\n",
    "print(a)\n",
    "c=tuple(a)\n",
    "print(c)"
   ]
  },
  {
   "cell_type": "code",
   "execution_count": 96,
   "metadata": {},
   "outputs": [
    {
     "name": "stdout",
     "output_type": "stream",
     "text": [
      "union of set1 & set2\n",
      "{20, 40, 10, 11, 12, 30}\n",
      "Intersection of set1 & set2\n",
      "{30}\n",
      "difference between set1 & 2\n",
      "{11, 12}\n",
      "symmettric diffrernce set 1 & 2 {40, 10, 11, 12, 20}\n"
     ]
    }
   ],
   "source": [
    "## Sets\n",
    "set1={10,20,30,40}\n",
    "set2={11,12,30}\n",
    "print(\"union of set1 & set2\")\n",
    "print(set1|set2)\n",
    "print(\"Intersection of set1 & set2\")\n",
    "print(set1&set2)\n",
    "print(\"difference between set1 & 2\")\n",
    "print(set1-set2)\n",
    "print(\"symmettric diffrernce set 1 & 2\",set1^set2)\n",
    "\n"
   ]
  },
  {
   "cell_type": "markdown",
   "metadata": {},
   "source": [
    "## Dictionary"
   ]
  },
  {
   "cell_type": "code",
   "execution_count": 109,
   "metadata": {},
   "outputs": [
    {
     "name": "stdout",
     "output_type": "stream",
     "text": [
      "{'one': 1, 'Two': 2, 3: 'Three'}\n",
      "dict_keys(['one', 'Two', 3])\n",
      "dict_values([1, 2, 'Three'])\n",
      "dict_items([('one', 1), ('Two', 2), (3, 'Three')])\n",
      "{'one': 1, 'Two': 2, 3: 'Three'}\n",
      "{'one': 1, 'Two': 2, 3: 'Three', 'Five': 9}\n"
     ]
    }
   ],
   "source": [
    "d={}\n",
    "d={\"one\":1,\"Two\":2,3:\"Three\"}\n",
    "print(d)\n",
    "print(d.keys())\n",
    "print(d.values())\n",
    "print(d.items())\n",
    "print(d)\n",
    "d[\"Five\"]=9\n",
    "print(d)"
   ]
  },
  {
   "cell_type": "code",
   "execution_count": 111,
   "metadata": {},
   "outputs": [
    {
     "name": "stdout",
     "output_type": "stream",
     "text": [
      "{'a': 1, 'b': 2, 'c': 3, 'd': 4}\n"
     ]
    }
   ],
   "source": []
  },
  {
   "cell_type": "code",
   "execution_count": null,
   "metadata": {},
   "outputs": [],
   "source": [
    "#Code to generate & print dictonary\n",
    "n=int(input(\"Input a number \"))\n",
    "d = {}\n",
    "for x in range(1,n+1):\n",
    "    d[x]=x*x #value is square of number\n",
    "print(d) \n",
    "print(\"*\"*20)\n",
    "#merge two dict\n",
    "d1 = {'a': 1, 'b': 2}\n",
    "d2 = {'c': 3, 'd': 4}\n",
    "d = d1.copy()\n",
    "d.update(d2)\n",
    "print(d)\n",
    "print(\"*\"*20)\n",
    "#sort (ascending and descending) a dictionary by value.\n",
    "import operator\n",
    "d = {1: 2, 3: 4, 4: 3, 2: 1, 0: 0}\n",
    "print('Original  ',d)\n",
    "sorted_d = sorted(d.items(), key=operator.itemgetter(0))\n",
    "print('Dictionary in ascending order by value : ',sorted_d)\n",
    "sorted_d = sorted(d.items(), key=operator.itemgetter(0),reverse=True)\n",
    "print('Dictionary in descending order by value : ',sorted_d)\n",
    "print(\"*\"*20)\n",
    "#add a key to a dictionary.\n",
    "d = {0:10, 1:20,3:30}\n",
    "print(d)\n",
    "d.update({2:40})\n",
    "print(d)\n",
    "print(\"*\"*20)\n",
    "#Concatenate two dictinaries\n",
    "dic1={'a':1, 'b':2}\n",
    "dic2={'c':3, 'd':4}\n",
    "dic3={'e':5,'f':6,'g':7}\n",
    "dic4 = {}\n",
    "for d in (dic1, dic2, dic3): dic4.update(d)\n",
    "print(dic4)\n",
    "print(\"*\"*20)\n",
    "#Sum all values in a dict\n",
    "my_d = {'d1':100,'d2':-4,'d3':12}\n",
    "print( \"sum=\",sum(my_d.values()))\n",
    "print(\"*\"*20)\n",
    "#iterate dictinary over loop\n",
    "d = {'name' : 00, 'ash': 1, 'ashi': 2, 'sid': 3} \n",
    "for dict_key, dict_value in d.items():\n",
    "    print(dict_key,':',dict_value)\n",
    "print(\"*\"*20)    \n",
    "#Map two list into dictionaries\n",
    "keys = ['red', 'green', 'blue']\n",
    "values = [0,1,2]\n",
    "d1 = dict(zip(keys, values))\n",
    "print(d1)\n",
    "print(\"*\"*20)\n"
   ]
  },
  {
   "cell_type": "code",
   "execution_count": 112,
   "metadata": {},
   "outputs": [
    {
     "name": "stdout",
     "output_type": "stream",
     "text": [
      "{'red': 0, 'green': 1, 'blue': 2}\n",
      "********************\n"
     ]
    }
   ],
   "source": [
    "keys = ['red', 'green', 'blue']\n",
    "values = [0,1,2]\n",
    "d1 = dict(zip(keys, values))\n",
    "print(d1)\n",
    "print(\"*\"*20)\n"
   ]
  },
  {
   "cell_type": "markdown",
   "metadata": {},
   "source": [
    "## Functions "
   ]
  },
  {
   "cell_type": "code",
   "execution_count": 113,
   "metadata": {},
   "outputs": [
    {
     "name": "stdout",
     "output_type": "stream",
     "text": [
      "Hi I am ASHI\n",
      "Hi I am ASHI\n"
     ]
    }
   ],
   "source": [
    "def print2():\n",
    "\tprint (\"Hi I am ASHI\")\n",
    "\treturn ;\n",
    "print2()\n",
    "print2()\n",
    "\n"
   ]
  },
  {
   "cell_type": "code",
   "execution_count": 114,
   "metadata": {},
   "outputs": [
    {
     "name": "stdout",
     "output_type": "stream",
     "text": [
      "9\n",
      "17\n"
     ]
    }
   ],
   "source": [
    "def add(a,b):\n",
    "        x=a+b\n",
    "        print(x)\n",
    "add(2,7)\n",
    "add(8,9)\n"
   ]
  },
  {
   "cell_type": "code",
   "execution_count": 118,
   "metadata": {},
   "outputs": [
    {
     "name": "stdout",
     "output_type": "stream",
     "text": [
      "The product outside= 99\n"
     ]
    }
   ],
   "source": [
    "def mul(x,y):\n",
    "        prod=x*y\n",
    "        print(\"The product inside=\",prod)\n",
    "        return x*y\n",
    "print(\"The product outside=\",mul(9,11),)\n",
    "\n"
   ]
  },
  {
   "cell_type": "code",
   "execution_count": 119,
   "metadata": {},
   "outputs": [
    {
     "name": "stdout",
     "output_type": "stream",
     "text": [
      "ASHI \t rollno= 2\n",
      "RAM \t rollno= 5\n"
     ]
    }
   ],
   "source": [
    "def data(name=\"\",roll=00):\n",
    "        print(\"%s \\t rollno= %d\"%(name,roll))\n",
    "data(\"ASHI\",2)\n",
    "data(\"RAM\",5)\n"
   ]
  },
  {
   "cell_type": "code",
   "execution_count": 3,
   "metadata": {},
   "outputs": [
    {
     "name": "stdout",
     "output_type": "stream",
     "text": [
      "Enter number9\n",
      "9 x 1 = 9\n",
      "9 x 2 = 18\n",
      "9 x 3 = 27\n",
      "9 x 4 = 36\n",
      "9 x 5 = 45\n",
      "9 x 6 = 54\n",
      "9 x 7 = 63\n",
      "9 x 8 = 72\n",
      "9 x 9 = 81\n",
      "9 x 10 = 90\n"
     ]
    }
   ],
   "source": [
    "n=int(input(\"Enter number\"))\n",
    "for i in range (1,11):\n",
    "   print(n,'x',i,'=',n*i)\n",
    " "
   ]
  },
  {
   "cell_type": "code",
   "execution_count": null,
   "metadata": {},
   "outputs": [],
   "source": []
  }
 ],
 "metadata": {
  "kernelspec": {
   "display_name": "Python 3",
   "language": "python",
   "name": "python3"
  },
  "language_info": {
   "codemirror_mode": {
    "name": "ipython",
    "version": 3
   },
   "file_extension": ".py",
   "mimetype": "text/x-python",
   "name": "python",
   "nbconvert_exporter": "python",
   "pygments_lexer": "ipython3",
   "version": "3.6.5"
  }
 },
 "nbformat": 4,
 "nbformat_minor": 2
}
